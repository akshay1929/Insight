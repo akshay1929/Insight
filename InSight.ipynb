{
  "nbformat": 4,
  "nbformat_minor": 0,
  "metadata": {
    "kernelspec": {
      "display_name": "Python 3",
      "language": "python",
      "name": "python3"
    },
    "language_info": {
      "codemirror_mode": {
        "name": "ipython",
        "version": 3
      },
      "file_extension": ".py",
      "mimetype": "text/x-python",
      "name": "python",
      "nbconvert_exporter": "python",
      "pygments_lexer": "ipython3",
      "version": "3.7.3"
    },
    "colab": {
      "name": "InSight.ipynb",
      "provenance": [],
      "collapsed_sections": []
    }
  },
  "cells": [
    {
      "cell_type": "markdown",
      "metadata": {
        "id": "7V1m8nHISBc1",
        "colab_type": "text"
      },
      "source": [
        "# Initializing  pyspark"
      ]
    },
    {
      "cell_type": "code",
      "metadata": {
        "id": "STKqXFncIZ6j",
        "colab_type": "code",
        "colab": {}
      },
      "source": [
        "# !brew install wget\n",
        "!apt-get install openjdk-8-jdk-headless -qq > /dev/null\n",
        "!wget -q https://www-us.apache.org/dist/spark/spark-2.4.4/spark-2.4.4-bin-hadoop2.7.tgz \n",
        "!tar -xvf  spark-2.4.4-bin-hadoop2.7.tgz\n",
        "!pip install -q findspark\n",
        "\n",
        "import os\n",
        "os.environ[\"JAVA_HOME\"] = \"/usr/lib/jvm/java-8-openjdk-amd64\"\n",
        "os.environ[\"SPARK_HOME\"] = \"/content/spark-2.4.4-bin-hadoop2.7\"\n",
        "\n"
      ],
      "execution_count": 0,
      "outputs": []
    },
    {
      "cell_type": "code",
      "metadata": {
        "id": "4Tm87fOSIZ6p",
        "colab_type": "code",
        "colab": {}
      },
      "source": [
        "import findspark\n",
        "findspark.init()\n",
        "from pyspark import SparkContext\n",
        "sc =SparkContext()"
      ],
      "execution_count": 0,
      "outputs": []
    },
    {
      "cell_type": "code",
      "metadata": {
        "id": "5i5MlSI0IZ6r",
        "colab_type": "code",
        "colab": {}
      },
      "source": [
        "%matplotlib inline\n",
        "import pandas as pd \n",
        "import numpy\n",
        "import matplotlib.pyplot as plt \n"
      ],
      "execution_count": 0,
      "outputs": []
    },
    {
      "cell_type": "markdown",
      "metadata": {
        "id": "06jHBk1VSlZC",
        "colab_type": "text"
      },
      "source": [
        "# Working  with twitter data\n"
      ]
    },
    {
      "cell_type": "code",
      "metadata": {
        "scrolled": true,
        "id": "Q6E2uvXCIZ6y",
        "colab_type": "code",
        "outputId": "3334c03d-7a12-48aa-aaeb-cdc35edf205d",
        "colab": {
          "base_uri": "https://localhost:8080/",
          "height": 187
        }
      },
      "source": [
        "!pip install tweepy"
      ],
      "execution_count": 0,
      "outputs": [
        {
          "output_type": "stream",
          "text": [
            "Requirement already satisfied: tweepy in /usr/local/lib/python3.6/dist-packages (3.6.0)\n",
            "Requirement already satisfied: six>=1.10.0 in /usr/local/lib/python3.6/dist-packages (from tweepy) (1.12.0)\n",
            "Requirement already satisfied: PySocks>=1.5.7 in /usr/local/lib/python3.6/dist-packages (from tweepy) (1.7.1)\n",
            "Requirement already satisfied: requests-oauthlib>=0.7.0 in /usr/local/lib/python3.6/dist-packages (from tweepy) (1.2.0)\n",
            "Requirement already satisfied: requests>=2.11.1 in /usr/local/lib/python3.6/dist-packages (from tweepy) (2.21.0)\n",
            "Requirement already satisfied: oauthlib>=3.0.0 in /usr/local/lib/python3.6/dist-packages (from requests-oauthlib>=0.7.0->tweepy) (3.1.0)\n",
            "Requirement already satisfied: certifi>=2017.4.17 in /usr/local/lib/python3.6/dist-packages (from requests>=2.11.1->tweepy) (2019.9.11)\n",
            "Requirement already satisfied: idna<2.9,>=2.5 in /usr/local/lib/python3.6/dist-packages (from requests>=2.11.1->tweepy) (2.8)\n",
            "Requirement already satisfied: chardet<3.1.0,>=3.0.2 in /usr/local/lib/python3.6/dist-packages (from requests>=2.11.1->tweepy) (3.0.4)\n",
            "Requirement already satisfied: urllib3<1.25,>=1.21.1 in /usr/local/lib/python3.6/dist-packages (from requests>=2.11.1->tweepy) (1.24.3)\n"
          ],
          "name": "stdout"
        }
      ]
    },
    {
      "cell_type": "code",
      "metadata": {
        "id": "TM_j1PjcIZ60",
        "colab_type": "code",
        "colab": {}
      },
      "source": [
        "import tweepy\n",
        "\n",
        "consumer_key= 'AJ5oEDxPbYw3YYU8WfieiDWo3'\n",
        "consumer_secret = 'NbBcRCfCskakakxkPxRxwpXyQnMLhBnEbs1bylPogFTNmdUOlT'\n",
        "\n",
        "access_token = '248104828-flmyhcEitnAV9w4okjP1odxMpdpRg2lMlqrdxpl1'\n",
        "access_token_secret = 'omavBDh6IGbSchvIwuHaaxskV65RvGBp4r5ZWqb9mj3KL'\n",
        "\n",
        "auth = tweepy.OAuthHandler(consumer_key, consumer_secret)\n",
        "auth.set_access_token(access_token, access_token_secret)\n",
        "\n",
        "api = tweepy.API(auth)\n",
        "\n",
        "tweetsList1 = []\n",
        "public_tweets = api.home_timeline()\n",
        "for tweet in public_tweets:\n",
        "    tweetsList.append(str(tweet.text))\n",
        "\n"
      ],
      "execution_count": 0,
      "outputs": []
    },
    {
      "cell_type": "markdown",
      "metadata": {
        "id": "_HThQNA0DNzg",
        "colab_type": "text"
      },
      "source": [
        "Tweets are coming in multiple languages "
      ]
    },
    {
      "cell_type": "code",
      "metadata": {
        "id": "BL8r9vVoIZ66",
        "colab_type": "code",
        "outputId": "c3528c83-c3be-41cf-f1d7-6a1708980384",
        "colab": {
          "base_uri": "https://localhost:8080/",
          "height": 340
        }
      },
      "source": [
        "tweetsList"
      ],
      "execution_count": 0,
      "outputs": [
        {
          "output_type": "execute_result",
          "data": {
            "text/plain": [
              "['Shuja-Ud-Daula - The strongest ally is he who turns the tide. #PanipatLook #Panipat #Dec6 \\n\\n@duttsanjay @kritisanon… https://t.co/DcvOg3jAGb',\n",
              " '🐕+👫 https://t.co/wMC7H7TnwF',\n",
              " 'श्रद्धा में डूबे प्रधानमंत्री @narendramodi, बाबा नानक के दर पर माथा टेक की अरदास। https://t.co/YZZ9FtOAn0',\n",
              " 'प्रधानमंत्री @narendramodi ने करतारपुर कॉरिडोर का उद्घाटन किया। https://t.co/BS5PLHkMnw',\n",
              " 'Historic opening of Kartarpur corridor. https://t.co/rhFxRqvtQl',\n",
              " 'Together, we must build a New India. https://t.co/Ns8Vtchzbe',\n",
              " 'निर्णय को हार-जीत के तौर पर नहीं देखें। https://t.co/fC9e1uflii',\n",
              " 'देश के लिए नया सवेरा। https://t.co/YZLdGAJotz',\n",
              " 'Furthering social harmony. https://t.co/0SdddBMcrG',\n",
              " 'अयोध्या पर निर्णय नया सवेरा लेकर आया। https://t.co/72cNzb37OF',\n",
              " 'फैसला किसी की हार-जीत नहीं। https://t.co/CAInY4m7V9',\n",
              " 'Shamsher Bahadur - Brave son of Bajirao and Mastani, and the cousin of Sadashiv Rao Bhau. #PanipatLook #Panipat… https://t.co/X98JCvfCb0',\n",
              " 'It’s that time of year where people begin to tip their servers under 10%, because they’re saving up to buy that hea… https://t.co/gAY33usEU1',\n",
              " 'Congratz daisy on a good clean child friendly sporting teaser of #Gujarat11 . . @ShahDaisy25… https://t.co/dvP6xRxrYB',\n",
              " 'Reviewed the situation in the wake of cyclone conditions and heavy rain in parts of Eastern India. \\n\\nSpoke to WB CM… https://t.co/jqR0gOhDeg',\n",
              " 'Yesterday, I was delighted to have got the opportunity to inaugurate the Kartarpur corridor and attend other progra… https://t.co/dONCflJKmE',\n",
              " 'Greetings on Milad-Un-Nabi. Inspired by the thoughts of Prophet Muhammad, may this day further the spirit of harmon… https://t.co/yYkYlkAoNz',\n",
              " 'Breathalyzers aren’t as accurate as previously reported. But then again, have any sobriety tests ever been reliable? https://t.co/beGWeZp7uI',\n",
              " 'Happy bday sapna 🎂🎈🤗 https://t.co/rSem2XtZZh']"
            ]
          },
          "metadata": {
            "tags": []
          },
          "execution_count": 78
        }
      ]
    },
    {
      "cell_type": "markdown",
      "metadata": {
        "id": "Lem-R4y-Tbgs",
        "colab_type": "text"
      },
      "source": [
        "Translation using a regular library"
      ]
    },
    {
      "cell_type": "code",
      "metadata": {
        "id": "s6uN1uTzIZ7A",
        "colab_type": "code",
        "colab": {}
      },
      "source": [
        "# # def deEmojify(inputString):\n",
        "# #     return inputString.encode('ascii', 'ignore').decode('ascii')\n",
        "# pip install emoji\n",
        "# import re\n",
        "# import string\n",
        "# import emoji\n",
        "\n",
        "# # method to remoji\n",
        "# def removeEmoji(str):\n",
        "#     clear = ''\n",
        "#     for val in str:\n",
        "#         if(val not in emoji.UNICODE_EMOJI):\n",
        "#             clear =clear+(val)\n",
        "#     return clear\n",
        "\n",
        "# # cleaning data from emoji\n",
        "# clearList = []\n",
        "# for val in tweetsList:\n",
        "#       clearList.append(removeEmoji(val))\n",
        "\n",
        "    "
      ],
      "execution_count": 0,
      "outputs": []
    },
    {
      "cell_type": "markdown",
      "metadata": {
        "id": "B-7We4VHTqvG",
        "colab_type": "text"
      },
      "source": [
        "# Regular Translation "
      ]
    },
    {
      "cell_type": "code",
      "metadata": {
        "id": "C_3_ap4AT3g0",
        "colab_type": "code",
        "colab": {}
      },
      "source": [
        "!pip install google-cloud-translate==2.0.0"
      ],
      "execution_count": 0,
      "outputs": []
    },
    {
      "cell_type": "code",
      "metadata": {
        "id": "dDLPjkVSVpjU",
        "colab_type": "code",
        "colab": {}
      },
      "source": [
        "def googleTranslation(text):\n",
        "\n",
        "  import os\n",
        "  os.environ['GOOGLE_APPLICATION_CREDENTIALS'] = \"translate.json\"\n",
        "\n",
        "  from google.cloud import translate_v2 as translate\n",
        "  translate_client = translate.Client()\n",
        "  target = 'en'\n",
        "  result = translate_client.translate(\n",
        "      text, target_language=target)\n",
        "  return result['translatedText']\n",
        "\n",
        "\n",
        "  \n",
        "  # print(u'Text: {}'.format(result['input']))\n",
        "  # print(u'Translation: {}'.format(result['translatedText']))\n",
        "  # print(u'Detected source language: {}'.format(\n",
        "  #     result['detectedSourceLanguage']))"
      ],
      "execution_count": 0,
      "outputs": []
    },
    {
      "cell_type": "code",
      "metadata": {
        "id": "AvACMVFvTp6K",
        "colab_type": "code",
        "colab": {}
      },
      "source": [
        "\n",
        "# text ='अभी भी चल 🤣😊 ही रहा है , बिस्तर पर लेटे लेटे'\n"
      ],
      "execution_count": 0,
      "outputs": []
    },
    {
      "cell_type": "markdown",
      "metadata": {
        "id": "RCW3FewCg_Nv",
        "colab_type": "text"
      },
      "source": [
        "Data from translated library"
      ]
    },
    {
      "cell_type": "code",
      "metadata": {
        "id": "cGRUNNAoTZQD",
        "colab_type": "code",
        "outputId": "aff24c89-b73b-4cf2-ce1d-160ee22e91ec",
        "colab": {
          "base_uri": "https://localhost:8080/",
          "height": 340
        }
      },
      "source": [
        "translated"
      ],
      "execution_count": 0,
      "outputs": [
        {
          "output_type": "execute_result",
          "data": {
            "text/plain": [
              "['🐕+👫 https://t.co/wMC7H7TnwF',\n",
              " 'Prime Minister @narendramodi immersed in reverence, Ardas of the forehead at the rate of Baba Nanak. https://t.co/YZZ9FtOAn0',\n",
              " 'Prime Minister @narendramodi inaugurated the Kartarpur Corridor. https://t.co/BS5PLHkMnw',\n",
              " 'Historic opening of Kartarpur corridor. https://t.co/rhFxRqvtQl',\n",
              " 'Together, we must build a New India. https://t.co/Ns8Vtchzbe',\n",
              " 'Don&#39;t see the decision as a win-win. https://t.co/fC9e1uflii',\n",
              " 'A new dawn for the country. https://t.co/YZLdGAJotz',\n",
              " 'Furthering social harmony. https://t.co/0SdddBMcrG',\n",
              " 'The decision on Ayodhya brought a new dawn. https://t.co/72cNzb37OF',\n",
              " 'The decision is not a victory or defeat of anyone. https://t.co/CAInY4m7V9',\n",
              " 'Shamsher Bahadur - Brave son of Bajirao and Mastani, and the cousin of Sadashiv Rao Bhau. #PanipatLook # Panipat… https://t.co/X98JCvfCb0',\n",
              " 'It’s that time of year where people begin to tip their servers under 10%, because they’re saving up to buy that hea… https://t.co/gAY33usEU1',\n",
              " 'Congratz daisy on a good clean child friendly sporting teaser of #Gujarat11 . . @ShahDaisy25… https://t.co/dvP6xRxrYB',\n",
              " 'Reviewed the situation in the wake of cyclone conditions and heavy rain in parts of Eastern India. \\n\\nSpoke to WB CM… https://t.co/jqR0gOhDeg',\n",
              " 'Yesterday, I was delighted to have got the opportunity to inaugurate the Kartarpur corridor and attend other progra… https://t.co/dONCflJKmE',\n",
              " 'Greetings on Milad-Un-Nabi. Inspired by the thoughts of Prophet Muhammad, may this day further the spirit of harmon… https://t.co/yYkYlkAoNz',\n",
              " 'Breathalyzers aren’t as accurate as previously reported. But then again, have any sobriety tests ever been reliable? https://t.co/beGWeZp7uI',\n",
              " 'Happy bday sapna 🎂🎈🤗 https://t.co/rSem2XtZZh',\n",
              " 'Thanks to u bhai for making it hilarious always❤️🙏 all the best 🤗 https://t.co/pcbcO4ZwcF']"
            ]
          },
          "metadata": {
            "tags": []
          },
          "execution_count": 63
        }
      ]
    },
    {
      "cell_type": "markdown",
      "metadata": {
        "id": "7815HnoaDbh-",
        "colab_type": "text"
      },
      "source": [
        "# Start of sentimental data analysis with Pyspark"
      ]
    },
    {
      "cell_type": "code",
      "metadata": {
        "id": "jIhNDl0QTZNn",
        "colab_type": "code",
        "colab": {}
      },
      "source": [
        "def percentage(a,b):\n",
        "  return 100 *float(a)/float(b)"
      ],
      "execution_count": 0,
      "outputs": []
    },
    {
      "cell_type": "code",
      "metadata": {
        "id": "0tfxfiZCTZLF",
        "colab_type": "code",
        "outputId": "90b8aa61-dfa3-4136-f3a9-24ecc7b51a0d",
        "colab": {
          "base_uri": "https://localhost:8080/",
          "height": 51
        }
      },
      "source": [
        "print('Enter the hastag term')\n",
        "searchTerm = input()\n",
        "numb = 2000\n",
        "tweetsssss =tweepy.Cursor(api.search,q = searchTerm).items(numb)"
      ],
      "execution_count": 0,
      "outputs": [
        {
          "output_type": "stream",
          "text": [
            "Enter the hastag term\n",
            "trump\n"
          ],
          "name": "stdout"
        }
      ]
    },
    {
      "cell_type": "code",
      "metadata": {
        "id": "DOtnx3jTees-",
        "colab_type": "code",
        "colab": {}
      },
      "source": [
        "# for tweet in tweetsssss:\n",
        "#     print(str(tweet.text))"
      ],
      "execution_count": 0,
      "outputs": []
    },
    {
      "cell_type": "code",
      "metadata": {
        "id": "5OATDOMaTZIL",
        "colab_type": "code",
        "colab": {}
      },
      "source": [
        "from textblob import TextBlob"
      ],
      "execution_count": 0,
      "outputs": []
    },
    {
      "cell_type": "code",
      "metadata": {
        "id": "lMgvzl-GlfSv",
        "colab_type": "code",
        "colab": {}
      },
      "source": [
        "def analyze(tweet):\n",
        "  pos = neg = neu =pol = 0 \n",
        "  analysis = TextBlob(tweet.text)\n",
        "  pol += analysis.sentiment.polarity\n",
        "\n",
        "  if (analysis.sentiment.polarity == 0):\n",
        "    neu += 1\n",
        "  elif (analysis.sentiment.polarity < 0):\n",
        "      neg +=1\n",
        "  elif analysis.sentiment.polarity > 0:\n",
        "    pos += 1\n",
        "  return [pos , neg , neu ,pol]"
      ],
      "execution_count": 0,
      "outputs": []
    },
    {
      "cell_type": "code",
      "metadata": {
        "id": "yToHELyOTY9c",
        "colab_type": "code",
        "colab": {}
      },
      "source": [
        "tw = sc.parallelize(tweetsssss,4)\n",
        "tw.count()"
      ],
      "execution_count": 0,
      "outputs": []
    },
    {
      "cell_type": "code",
      "metadata": {
        "id": "bVd5Y2Y5TYwj",
        "colab_type": "code",
        "colab": {}
      },
      "source": [
        "data = tw.map(analyze)"
      ],
      "execution_count": 0,
      "outputs": []
    },
    {
      "cell_type": "code",
      "metadata": {
        "id": "wpZKOPXumduj",
        "colab_type": "code",
        "colab": {}
      },
      "source": [
        "data.collect()\n",
        "# posCounted = data.map(lambda x: x[1]).reduceByKey(lambda x, y: x + y)"
      ],
      "execution_count": 0,
      "outputs": []
    },
    {
      "cell_type": "code",
      "metadata": {
        "id": "s9-Bool4meVH",
        "colab_type": "code",
        "colab": {}
      },
      "source": [
        "pos =  data.map(lambda x: (x[0])).reduce(lambda x,y:x+y)\n",
        "neg =  data.map(lambda x: (x[1])).reduce(lambda x,y:x+y)\n",
        "new =  data.map(lambda x: (x[2])).reduce(lambda x,y:x+y)\n",
        "polarity =  data.map(lambda x: (x[3])).reduce(lambda x,y:x+y)"
      ],
      "execution_count": 0,
      "outputs": []
    },
    {
      "cell_type": "code",
      "metadata": {
        "id": "JfTKclcttg0o",
        "colab_type": "code",
        "colab": {}
      },
      "source": [
        "positive = percentage(pos,numb)\n",
        "negative = percentage(neg,numb)\n",
        "neutral = percentage(new,numb)\n",
        "polarity = percentage(polarity,numb)\n",
        "positive = format(positive,'.2f')\n",
        "negative = format(negative,'.2f')\n",
        "neutral = format(neutral, '.2f')"
      ],
      "execution_count": 0,
      "outputs": []
    },
    {
      "cell_type": "code",
      "metadata": {
        "id": "tr7J8_wctgu9",
        "colab_type": "code",
        "outputId": "e91809f0-2509-4413-dc66-3bc5b37db075",
        "colab": {
          "base_uri": "https://localhost:8080/",
          "height": 418
        }
      },
      "source": [
        "# if (polarity == 0):\n",
        "#   print('Tweets are neutral')\n",
        "# elif polarity > 0.00:\n",
        "#   print('Tweets are positve')\n",
        "# elif polarity < 0.00:\n",
        "#   print('Tweets are negative')\n",
        "\n",
        "\n",
        "colors = ['lightskyblue','lightcoral', 'yellowgreen', 'gold']\n",
        "labels ='Positve','Negative', 'Neutral'\n",
        "values = [positive,negative, neutral]\n",
        "explode = (0.2, 0, 0) \n",
        "plt.axis('equal')\n",
        "\n",
        "plt.pie(values, labels=labels, explode=explode, colors=colors, autopct='%1.1f%%', shadow=True, startangle=140)"
      ],
      "execution_count": 0,
      "outputs": [
        {
          "output_type": "stream",
          "text": [
            "Tweets are positve\n"
          ],
          "name": "stdout"
        },
        {
          "output_type": "execute_result",
          "data": {
            "text/plain": [
              "([<matplotlib.patches.Wedge at 0x7fd1c4fbd160>,\n",
              "  <matplotlib.patches.Wedge at 0x7fd1c4fbda90>,\n",
              "  <matplotlib.patches.Wedge at 0x7fd1c4fc9400>],\n",
              " [Text(-1.2912624524057517, -0.15047019308515508, 'Positve'),\n",
              "  Text(0.2729476387420187, -1.0655982294022248, 'Negative'),\n",
              "  Text(0.5874555296737299, 0.9299978498124377, 'Neutral')],\n",
              " [Text(-0.7946230476343088, -0.09259704189855694, '25.9%'),\n",
              "  Text(0.14888053022291928, -0.581235397855759, '28.4%'),\n",
              "  Text(0.32043028891294356, 0.5072715544431478, '45.7%')])"
            ]
          },
          "metadata": {
            "tags": []
          },
          "execution_count": 208
        },
        {
          "output_type": "display_data",
          "data": {
            "image/png": "[encoded data removed]",
            "text/plain": [
              "<Figure size 432x288 with 1 Axes>"
            ]
          },
          "metadata": {
            "tags": []
          }
        }
      ]
    },
    {
      "cell_type": "code",
      "metadata": {
        "id": "KE9kFNBatgnT",
        "colab_type": "code",
        "colab": {}
      },
      "source": [
        "# pip install SimpleCV"
      ],
      "execution_count": 0,
      "outputs": []
    },
    {
      "cell_type": "code",
      "metadata": {
        "id": "rPDIgA8jAO40",
        "colab_type": "code",
        "colab": {}
      },
      "source": [
        ""
      ],
      "execution_count": 0,
      "outputs": []
    },
    {
      "cell_type": "markdown",
      "metadata": {
        "id": "WRM0CBHTxfsR",
        "colab_type": "text"
      },
      "source": [
        "# Tool to read text from images and then translating it and making a audio file out of it"
      ]
    },
    {
      "cell_type": "code",
      "metadata": {
        "id": "3OecXi8qIZ7C",
        "colab_type": "code",
        "colab": {}
      },
      "source": [
        "!pip install --upgrade google-cloud-vision\n",
        "!pip install google-cloud-translate==2.0.0\n",
        "!pip install --upgrade google-cloud-texttospeech\n",
        "# pip install --upgrade google-cloud-translate\n"
      ],
      "execution_count": 0,
      "outputs": []
    },
    {
      "cell_type": "code",
      "metadata": {
        "id": "kA5UZE4pIZ7E",
        "colab_type": "code",
        "colab": {}
      },
      "source": [
        "import io\n",
        "import os\n",
        "import html\n",
        "\n",
        "# Imports the Google Cloud client libraries\n",
        "from google.api_core.exceptions import AlreadyExists\n",
        "from google.cloud import translate_v3beta1 as translate\n",
        "from google.cloud import vision\n",
        "from google.cloud import texttospeech\n",
        "\n",
        "# !export GCLOUD_PROJECT= 869901988667\n",
        "\n",
        "os.environ['GOOGLE_APPLICATION_CREDENTIALS']= './TranslationAPIEditior.json'\n",
        "\n",
        "os.environ['GCLOUD_PROJECT'] = '869901988667'\n",
        "\n",
        "PROJECT_ID = os.environ['GCLOUD_PROJECT']\n",
        "# 869901988667  project number\n",
        "\n",
        "\n",
        "def pic_to_text(infile):\n",
        "    \"\"\"Detects text in an image file\n",
        "\n",
        "    ARGS\n",
        "    infile: path to image file\n",
        "\n",
        "    RETURNS\n",
        "    String of text detected in image\n",
        "    \"\"\"\n",
        "\n",
        "    # Instantiates a client\n",
        "    client = vision.ImageAnnotatorClient()\n",
        "\n",
        "    # Opens the input image file\n",
        "    with io.open(infile, 'rb') as image_file:\n",
        "        content = image_file.read()\n",
        "\n",
        "    image = vision.types.Image(content=content)\n",
        "\n",
        "    # For dense text, use document_text_detection\n",
        "    # For less dense text, use text_detection\n",
        "    response = client.document_text_detection(image=image)\n",
        "    text = response.full_text_annotation.text\n",
        "\n",
        "    return text"
      ],
      "execution_count": 0,
      "outputs": []
    },
    {
      "cell_type": "code",
      "metadata": {
        "id": "mYg_2HSRIZ7G",
        "colab_type": "code",
        "colab": {}
      },
      "source": [
        "def create_glossary(languages, project_id, glossary_name, glossary_uri):\n",
        "    \"\"\"Creates a GCP glossary resource\n",
        "    Assumes you've already manually uploaded a glossary to Cloud Storage\n",
        "\n",
        "    ARGS\n",
        "    languages: list of languages in the glossary\n",
        "    project_id: GCP project id\n",
        "    glossary_name: name you want to give this glossary resource\n",
        "    glossary_uri: the uri of the glossary you uploaded to Cloud Storage\n",
        "\n",
        "    RETURNS\n",
        "    nothing\n",
        "    \"\"\"\n",
        "\n",
        "    # Instantiates a client\n",
        "    client = translate.TranslationServiceClient()\n",
        "\n",
        "    # Designates the data center location that you want to use\n",
        "    location = 'us-central1'\n",
        "\n",
        "    # Set glossary resource name\n",
        "    name = client.glossary_path(\n",
        "        project_id,\n",
        "        location,\n",
        "        glossary_name)\n",
        "\n",
        "    # Set language codes\n",
        "    language_codes_set = translate.types.Glossary.LanguageCodesSet(\n",
        "        language_codes=languages)\n",
        "\n",
        "    gcs_source = translate.types.GcsSource(\n",
        "        input_uri=glossary_uri)\n",
        "\n",
        "    input_config = translate.types.GlossaryInputConfig(\n",
        "        gcs_source=gcs_source)\n",
        "\n",
        "    # Set glossary resource information\n",
        "    glossary = translate.types.Glossary(\n",
        "        name=name,\n",
        "        language_codes_set=language_codes_set,\n",
        "        input_config=input_config)\n",
        "\n",
        "    parent = client.location_path(project_id, location)\n",
        "\n",
        "    # Create glossary resource\n",
        "    # Handle exception for case in which a glossary\n",
        "    #  with glossary_name already exists\n",
        "    try:\n",
        "        operation = client.create_glossary(parent=parent, glossary=glossary)\n",
        "        operation.result(timeout=90)\n",
        "        print('Created glossary ' + glossary_name + '.')\n",
        "    except AlreadyExists:\n",
        "        print('The glossary ' + glossary_name +\n",
        "              ' already exists. No new glossary was created.')"
      ],
      "execution_count": 0,
      "outputs": []
    },
    {
      "cell_type": "code",
      "metadata": {
        "id": "DyPozOCQIZ7I",
        "colab_type": "code",
        "colab": {}
      },
      "source": [
        "def translate_text(text, source_language_code, target_language_code,\n",
        "                   project_id, glossary_name):\n",
        "    \"\"\"Translates text to a given language using a glossary\n",
        "\n",
        "    ARGS\n",
        "    text: String of text to translate\n",
        "    source_language_code: language of input text\n",
        "    target_language_code: language of output text\n",
        "    project_id: GCP project id\n",
        "    glossary_name: name you gave your project's glossary\n",
        "        resource when you created it\n",
        "\n",
        "    RETURNS\n",
        "    String of translated text\n",
        "    \"\"\"\n",
        "\n",
        "    # Instantiates a client\n",
        "    client = translate.TranslationServiceClient()\n",
        "\n",
        "    # Designates the data center location that you want to use\n",
        "    location = 'us-central1'\n",
        "\n",
        "    glossary = client.glossary_path(\n",
        "        project_id,\n",
        "        location,\n",
        "        glossary_name)\n",
        "\n",
        "    glossary_config = translate.types.TranslateTextGlossaryConfig(\n",
        "        glossary=glossary)\n",
        "\n",
        "    parent = client.location_path(project_id, location)\n",
        "\n",
        "    result = client.translate_text(\n",
        "        parent=parent,\n",
        "        contents=[text],\n",
        "        mime_type='text/plain',  # mime types: text/plain, text/html\n",
        "        source_language_code=source_language_code,\n",
        "        target_language_code=target_language_code,\n",
        "        glossary_config=glossary_config)\n",
        "\n",
        "    # Extract translated text from API response\n",
        "    return result.glossary_translations[0].translated_text"
      ],
      "execution_count": 0,
      "outputs": []
    },
    {
      "cell_type": "code",
      "metadata": {
        "id": "gDOSP4RWIZ7N",
        "colab_type": "code",
        "colab": {}
      },
      "source": [
        "def text_to_speech(text, outfile):\n",
        "    \"\"\"Converts plaintext to SSML and\n",
        "    generates synthetic audio from SSML\n",
        "\n",
        "    ARGS\n",
        "    text: text to synthesize\n",
        "    outfile: filename to use to store synthetic audio\n",
        "\n",
        "    RETURNS\n",
        "    nothing\n",
        "    \"\"\"\n",
        "\n",
        "    # Replace special characters with HTML Ampersand Character Codes\n",
        "    # These Codes prevent the API from confusing text with\n",
        "    # SSML commands\n",
        "    # For example, '<' --> '&lt;' and '&' --> '&amp;'\n",
        "    escaped_lines = html.escape(text)\n",
        "\n",
        "    # Convert plaintext to SSML in order to wait two seconds\n",
        "    #   between each line in synthetic speech\n",
        "    ssml = '<speak>{}</speak>'.format(\n",
        "        escaped_lines.replace('\\n', '\\n<break time=\"2s\"/>'))\n",
        "\n",
        "    # Instantiates a client\n",
        "    client = texttospeech.TextToSpeechClient()\n",
        "\n",
        "    # Sets the text input to be synthesized\n",
        "    synthesis_input = texttospeech.types.SynthesisInput(ssml=ssml)\n",
        "\n",
        "    # Builds the voice request, selects the language code (\"en-US\") and\n",
        "    # the SSML voice gender (\"MALE\")\n",
        "    voice = texttospeech.types.VoiceSelectionParams(\n",
        "        language_code='en-US',\n",
        "        ssml_gender=texttospeech.enums.SsmlVoiceGender.MALE)\n",
        "\n",
        "    # Selects the type of audio file to return\n",
        "    audio_config = texttospeech.types.AudioConfig(\n",
        "        audio_encoding=texttospeech.enums.AudioEncoding.MP3)\n",
        "\n",
        "    # Performs the text-to-speech request on the text input with the selected\n",
        "    # voice parameters and audio file type\n",
        "    response = client.synthesize_speech(synthesis_input, voice, audio_config)\n",
        "\n",
        "    # Writes the synthetic audio to the output file.\n",
        "    with open(outfile, 'wb') as out:\n",
        "        out.write(response.audio_content)\n",
        "        print('Audio content written to file ' + outfile)"
      ],
      "execution_count": 0,
      "outputs": []
    },
    {
      "cell_type": "code",
      "metadata": {
        "id": "hDsZO-tTIZ7P",
        "colab_type": "code",
        "outputId": "1edb8d65-4fd4-45fc-d4ad-ff11697e6525",
        "colab": {
          "base_uri": "https://localhost:8080/",
          "height": 51
        }
      },
      "source": [
        "def imageToVoice():\n",
        "\n",
        "    # Photo from which to extract text\n",
        "    infile = '/content/hybrid_glossaries_example.png'\n",
        "    # Name of file that will hold synthetic speech\n",
        "    outfile = '/content/result.mp3'\n",
        "\n",
        "    # Defines the languages in the glossary\n",
        "    # This list must match the languages in the glossary\n",
        "    #   Here, the glossary includes French and English\n",
        "    glossary_langs = ['fr', 'en']\n",
        "    # Name that will be assigned to your project's glossary resource\n",
        "    glossary_name = 'bistro-glossary2'\n",
        "    # uri of .csv file uploaded to Cloud Storage\n",
        "    glossary_uri = 'gs://cloud-samples-data/translation/bistro_glossary.csv'\n",
        "\n",
        "    create_glossary(glossary_langs, PROJECT_ID,  glossary_name, glossary_uri)\n",
        "\n",
        "    # photo -> detected text\n",
        "    text_to_translate = pic_to_text(infile)\n",
        "    # detected text -> translated text\n",
        "    text_to_speak = translate_text(text_to_translate, 'fr', 'en',\n",
        "                                   PROJECT_ID, glossary_name)\n",
        "    # translated text -> synthetic audio\n",
        "    text_to_speech(text_to_speak, outfile)\n",
        "\n",
        "\n",
        "imageToVoice()"
      ],
      "execution_count": 0,
      "outputs": [
        {
          "output_type": "stream",
          "text": [
            "The glossary bistro-glossary2 already exists. No new glossary was created.\n",
            "Audio content written to file /content/result.mp3\n"
          ],
          "name": "stdout"
        }
      ]
    },
    {
      "cell_type": "markdown",
      "metadata": {
        "id": "GFUdDyAEBukg",
        "colab_type": "text"
      },
      "source": [
        "## Image used for the purpose of translation"
      ]
    },
    {
      "cell_type": "code",
      "metadata": {
        "id": "Jn4TcqmxBd6X",
        "colab_type": "code",
        "outputId": "846f4747-4d24-4228-ad7b-f6dd598f2977",
        "colab": {
          "base_uri": "https://localhost:8080/",
          "height": 254
        }
      },
      "source": [
        "from IPython.display import Image\n",
        "Image('/content/hybrid_glossaries_example.png')"
      ],
      "execution_count": 0,
      "outputs": [
        {
          "output_type": "execute_result",
          "data": {
            "image/png": "[encoded data removed]",
            "text/plain": [
              "<IPython.core.display.Image object>"
            ]
          },
          "metadata": {
            "tags": []
          },
          "execution_count": 214
        }
      ]
    },
    {
      "cell_type": "code",
      "metadata": {
        "id": "Gn36HDDwIZ7R",
        "colab_type": "code",
        "outputId": "62dc75c8-edd6-45b4-dae7-afa3bf285d88",
        "colab": {
          "base_uri": "https://localhost:8080/",
          "height": 75
        }
      },
      "source": [
        "from IPython.display import Audio\n",
        "audio = Audio(filename='/content/result.mp3')\n",
        "display(audio)\n"
      ],
      "execution_count": 0,
      "outputs": [
        {
          "output_type": "display_data",
          "data": {
            "text/html": [
              "\n",
              "                <audio controls=\"controls\" >\n",
              "                    <source src=\"data:audio/mpeg;base64,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\" type=\"audio/mpeg\" />\n",
              "                    Your browser does not support the audio element.\n",
              "                </audio>\n",
              "              "
            ],
            "text/plain": [
              "<IPython.lib.display.Audio object>"
            ]
          },
          "metadata": {
            "tags": []
          }
        }
      ]
    },
    {
      "cell_type": "code",
      "metadata": {
        "scrolled": true,
        "id": "4h0ICBg8IZ7Z",
        "colab_type": "code",
        "colab": {}
      },
      "source": [
        ""
      ],
      "execution_count": 0,
      "outputs": []
    },
    {
      "cell_type": "code",
      "metadata": {
        "id": "BvB5kNWzIZ7W",
        "colab_type": "code",
        "colab": {}
      },
      "source": [
        "\n",
        "\n",
        "# bad translation tool\n",
        "# translation is done here\n",
        "# from googletrans import Translator\n",
        "# translator = Translator()\n",
        "# data = removeEmoji('अभी भी चल 🤣😊 ही रहा है , बिस्तर पर लेटे लेटे')\n",
        "# transData.append(translator.translate(data).text)\n",
        "# print(translator.translate(data).text)   \n",
        "\n",
        "\n",
        "\n",
        "# transData = []\n",
        "# for val in clearList:\n",
        "#     data = removeEmoji(val)\n",
        "#     transData.append(translator.translate(data).text)"
      ],
      "execution_count": 0,
      "outputs": []
    },
    {
      "cell_type": "code",
      "metadata": {
        "id": "MxxOLkCEIZ7d",
        "colab_type": "code",
        "outputId": "6f23c48f-b99b-4862-e2d9-e443f5c48f29",
        "colab": {}
      },
      "source": [
        "print(translator.translate(text).text)"
      ],
      "execution_count": 0,
      "outputs": [
        {
          "output_type": "stream",
          "text": [
            "Creating new dimensions of growth Dev Bhoomi much of the state's foundation day on residents of Uttarakhand Congratulations.\n"
          ],
          "name": "stdout"
        }
      ]
    },
    {
      "cell_type": "code",
      "metadata": {
        "id": "nUfySlZZIZ7n",
        "colab_type": "code",
        "outputId": "1fadabb0-d57d-45b1-d16e-d20d3b6adccb",
        "colab": {}
      },
      "source": [
        "os.environ['GOOGLE_APPLICATION_CREDENTIALS'] ==\"./TextToSpeech.json\"\n",
        "from google.cloud import texttospeech\n",
        "\n",
        "def synthesize_text_with_audio_profile(text, output, effects_profile_id):\n",
        "    \"\"\"Synthesizes speech from the input string of text.\"\"\"\n",
        "    from google.cloud import texttospeech\n",
        "# Instantiates a client\n",
        "client = texttospeech.TextToSpeechClient()\n",
        "\n",
        "# Set the text input to be synthesized\n",
        "synthesis_input = texttospeech.types.SynthesisInput(text=\"\")\n",
        "\n",
        "# Build the voice request, select the language code (\"en-US\") and the ssml\n",
        "# voice gender (\"neutral\")\n",
        "voice = texttospeech.types.VoiceSelectionParams(\n",
        "    language_code='en-US',\n",
        "    ssml_gender=texttospeech.enums.SsmlVoiceGender.NEUTRAL)\n",
        "\n",
        "# Select the type of audio file you want returned\n",
        "audio_config = texttospeech.types.AudioConfig(\n",
        "    audio_encoding=texttospeech.enums.AudioEncoding.MP3)\n",
        "\n",
        "# Perform the text-to-speech request on the text input with the selected\n",
        "# voice parameters and audio file type\n",
        "response = client.synthesize_speech(synthesis_input, voice, audio_config)\n",
        "\n",
        "# The response's audio_content is binary.\n",
        "with open('output.mp3', 'wb') as out:\n",
        "    # Write the response to the output file.\n",
        "    out.write(response.audio_content)\n",
        "    print('Audio content written to file \"output.mp3\"')"
      ],
      "execution_count": 0,
      "outputs": [
        {
          "output_type": "stream",
          "text": [
            "Audio content written to file \"output.mp3\"\n"
          ],
          "name": "stdout"
        }
      ]
    },
    {
      "cell_type": "code",
      "metadata": {
        "id": "WRrlEEw_IZ7b",
        "colab_type": "code",
        "outputId": "32c640b6-4783-4e62-9cdf-0afaa25e8c4e",
        "colab": {}
      },
      "source": [
        "# \"\"\"Translates text into the target language.\n",
        "\n",
        "# Target must be an ISO 639-1 language code.\n",
        "# See https://g.co/cloud/translate/v2/translate-reference#supported_languages\n",
        "# \"\"\"\n",
        "# text ='अभी भी चल 🤣😊 ही रहा है , बिस्तर पर लेटे लेटे'\n",
        "\n",
        "\n",
        "# import os\n",
        "# # export os.GOOGLE_APPLICATION_CREDENTIALS= \"./translate.json\"\n",
        "# os.environ['GOOGLE_APPLICATION_CREDENTIALS'] = \"translate.json\"\n",
        "\n",
        "# from google.cloud import translate_v2 as translate\n",
        "# translate_client = translate.Client()\n",
        "# target = 'en'\n",
        "# result = translate_client.translate(\n",
        "#     text, target_language=target)\n",
        "\n",
        "# print(u'Text: {}'.format(result['input']))\n",
        "# print(u'Translation: {}'.format(result['translatedText']))\n",
        "# print(u'Detected source language: {}'.format(\n",
        "#     result['detectedSourceLanguage']))"
      ],
      "execution_count": 0,
      "outputs": [
        {
          "output_type": "stream",
          "text": [
            "Text: अभी भी चल 🤣😊 ही रहा है , बिस्तर पर लेटे लेटे\n",
            "Translation: Still going on, lying on the bed\n",
            "Detected source language: hi\n"
          ],
          "name": "stdout"
        }
      ]
    }
  ]
}